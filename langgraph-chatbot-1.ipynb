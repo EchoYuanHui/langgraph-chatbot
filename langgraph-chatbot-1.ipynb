{
 "cells": [
  {
   "cell_type": "code",
   "execution_count": 1,
   "id": "d54a01e0-cdc3-456f-8304-ac48bd15a501",
   "metadata": {},
   "outputs": [],
   "source": [
    "import os"
   ]
  },
  {
   "cell_type": "code",
   "execution_count": 2,
   "id": "28c53c6c-a5ca-4db1-9442-faf1f366dca0",
   "metadata": {},
   "outputs": [],
   "source": [
    "from typing import Annotated"
   ]
  },
  {
   "cell_type": "code",
   "execution_count": 4,
   "id": "c2c9b131-5d67-4f7a-bbb4-a7abcf2f91c9",
   "metadata": {},
   "outputs": [],
   "source": [
    "from typing_extensions import TypedDict"
   ]
  },
  {
   "cell_type": "code",
   "execution_count": 5,
   "id": "d3fe7eba-d599-4532-87f6-4b416589d65c",
   "metadata": {},
   "outputs": [],
   "source": [
    "from langgraph.graph import StateGraph, START, END"
   ]
  },
  {
   "cell_type": "code",
   "execution_count": 6,
   "id": "8ff9af1f-7f9f-4035-989f-9ede35545ad6",
   "metadata": {},
   "outputs": [],
   "source": [
    "from langgraph.graph.message import add_messages"
   ]
  },
  {
   "cell_type": "code",
   "execution_count": 62,
   "id": "8ea8282c-22a4-4511-a36b-6be2f7155f74",
   "metadata": {},
   "outputs": [],
   "source": [
    "class State(TypedDict):\n",
    "    messages: Annotated[list, add_messages]"
   ]
  },
  {
   "cell_type": "code",
   "execution_count": 63,
   "id": "bb68aed3-ba4c-480a-a73d-bcf963786548",
   "metadata": {},
   "outputs": [],
   "source": [
    "graph_builder = StateGraph(State)"
   ]
  },
  {
   "cell_type": "code",
   "execution_count": 64,
   "id": "61a65e6e-e2e7-4713-b5e5-0639fc6294c9",
   "metadata": {},
   "outputs": [],
   "source": [
    "from langchain_community.chat_models import ChatZhipuAI"
   ]
  },
  {
   "cell_type": "code",
   "execution_count": 13,
   "id": "e80bf09a-ffef-4e35-b829-049cf98c5f72",
   "metadata": {},
   "outputs": [],
   "source": [
    "chat_model = ChatZhipuAI(model='glm-4-flash-250414')"
   ]
  },
  {
   "cell_type": "code",
   "execution_count": 65,
   "id": "418c75d0-f597-424e-ab44-6b343acb2957",
   "metadata": {},
   "outputs": [],
   "source": [
    "def chatbot(state: State):\n",
    "    return {'messages': [chat_model.invoke(state['messages'])]}"
   ]
  },
  {
   "cell_type": "code",
   "execution_count": 66,
   "id": "a6f1ed0f-2bec-44ba-81ba-0bcfaa76d055",
   "metadata": {},
   "outputs": [
    {
     "data": {
      "text/plain": [
       "<langgraph.graph.state.StateGraph at 0x2a9ff3adc70>"
      ]
     },
     "execution_count": 66,
     "metadata": {},
     "output_type": "execute_result"
    }
   ],
   "source": [
    "graph_builder.add_node('chatbot', chatbot)"
   ]
  },
  {
   "cell_type": "code",
   "execution_count": 67,
   "id": "a9370ed5-23aa-4809-87b4-c8aaa38efab2",
   "metadata": {},
   "outputs": [
    {
     "data": {
      "text/plain": [
       "<langgraph.graph.state.StateGraph at 0x2a9ff3adc70>"
      ]
     },
     "execution_count": 67,
     "metadata": {},
     "output_type": "execute_result"
    }
   ],
   "source": [
    "graph_builder.add_edge(START, 'chatbot')\n",
    "graph_builder.add_edge('chatbot', END)"
   ]
  },
  {
   "cell_type": "code",
   "execution_count": 68,
   "id": "9c205346-7bf1-4c8c-a009-ed1f5e131ba4",
   "metadata": {},
   "outputs": [],
   "source": [
    "graph = graph_builder.compile()"
   ]
  },
  {
   "cell_type": "code",
   "execution_count": 69,
   "id": "9e68e7d5-3e29-453e-8cd8-0db0c9334d40",
   "metadata": {},
   "outputs": [],
   "source": [
    "from IPython.display import Image, display"
   ]
  },
  {
   "cell_type": "code",
   "execution_count": 70,
   "id": "3b6f236d-34a9-4288-9aa4-e125921d363e",
   "metadata": {},
   "outputs": [
    {
     "data": {
      "image/png": "[encoded data removed]",
      "text/plain": [
       "<IPython.core.display.Image object>"
      ]
     },
     "metadata": {},
     "output_type": "display_data"
    }
   ],
   "source": [
    "try: \n",
    "    display(Image(graph.get_graph().draw_mermaid_png()))\n",
    "except Exception:\n",
    "    pass"
   ]
  },
  {
   "cell_type": "code",
   "execution_count": 71,
   "id": "cd35bf36-6831-401a-b668-c907ced0ef01",
   "metadata": {},
   "outputs": [
    {
     "name": "stdin",
     "output_type": "stream",
     "text": [
      "User:  请给我介绍一下Tavily的主要作用\n"
     ]
    },
    {
     "name": "stdout",
     "output_type": "stream",
     "text": [
      "Assistant: Tavily 是一个专门用于搜索实时信息的数据平台，它主要作用是为用户提供最新的网络信息，帮助用户快速找到最新的新闻、研究论文、博客文章和其他在线资源。Tavily 的特点在于它的搜索引擎能够返回高度相关的结果，同时过滤掉那些过时或不准确的信息。这使得Tavily成为需要最新信息的研究人员、学生、记者和任何需要实时数据的专业人士的有用工具。通过使用Tavily，用户可以确保他们获得的信息是最新的，从而做出更准确、更及时的决策。\n"
     ]
    },
    {
     "name": "stdin",
     "output_type": "stream",
     "text": [
      "User:  q\n"
     ]
    },
    {
     "name": "stdout",
     "output_type": "stream",
     "text": [
      "Goodbye!\n"
     ]
    }
   ],
   "source": [
    "while True:\n",
    "    user_input = input(\"User: \")\n",
    "\n",
    "    if user_input.lower() in ['quit', 'exit', 'q']:\n",
    "        print('Goodbye!')\n",
    "        break\n",
    "\n",
    "    for event in graph.stream({'messages': ('user', user_input)}):\n",
    "        for value in event.values():\n",
    "            print('Assistant:', value[\"messages\"][-1].content)"
   ]
  },
  {
   "cell_type": "code",
   "execution_count": 73,
   "id": "84131439-1763-48fc-abe4-724e7a809d56",
   "metadata": {},
   "outputs": [],
   "source": [
    "import getpass\n",
    "import os"
   ]
  },
  {
   "cell_type": "code",
   "execution_count": 74,
   "id": "d555e584-d154-45b9-bcc9-8851a834d7a1",
   "metadata": {},
   "outputs": [
    {
     "data": {
      "text/plain": [
       "'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'"
      ]
     },
     "execution_count": 74,
     "metadata": {},
     "output_type": "execute_result"
    }
   ],
   "source": [
    "os.environ.get(\"TAVILY_API_KEY\")"
   ]
  },
  {
   "cell_type": "code",
   "execution_count": 75,
   "id": "66b850b3-501a-4667-88c7-cfe18a3eeb86",
   "metadata": {},
   "outputs": [],
   "source": [
    "from langchain_community.tools import TavilySearchResults"
   ]
  },
  {
   "cell_type": "code",
   "execution_count": 76,
   "id": "0474f207-6f76-4dfb-87eb-ba85e9965ce9",
   "metadata": {},
   "outputs": [],
   "source": [
    "tool = TavilySearchResults(max_results=2)"
   ]
  },
  {
   "cell_type": "code",
   "execution_count": 78,
   "id": "b4c30260-c3a1-4e8c-a92e-c95dac08ed25",
   "metadata": {},
   "outputs": [],
   "source": [
    "tools = [tool]"
   ]
  },
  {
   "cell_type": "code",
   "execution_count": 31,
   "id": "c8b5e08a-7653-4ef7-9259-cf92dfe8371f",
   "metadata": {},
   "outputs": [
    {
     "data": {
      "text/plain": [
       "[{'title': 'Tavily - AI工具信息，评论，替代品',\n",
       "  'url': 'https://sayhi2.ai/zh/product/tavily_com',\n",
       "  'content': 'Tavily是一款利用人工智能技术的研究支持平台。 用户可以分享他们的研究目标和问题，并直接获得快速准确的研究结果。 该平台可以应对任何主题或领域的研究需求，并由专家团',\n",
       "  'score': 0.8886914},\n",
       " {'title': 'Tavily: 为AI代理和快速见解量身定制的AI驱动的搜索引擎和研究助手。',\n",
       "  'url': 'https://www.toolify.ai/zh/tool/gpt-researcher',\n",
       "  'content': 'Toolify logo\\n\\n最新上架的AI，每日更新\\n\\n获得最多收藏的AI工具\\n\\n网站流量最高的AI工具\\n\\n按App分类的AI工具\\n\\nAI的Discord社区\\n\\n按浏览器插件分类的AI工具\\n\\n来自GPT Store 的GPTs\\n\\n依据月份和月访问量划分的AI网站榜单\\n\\n依据分类和月访问量划分的AI网站榜单\\n\\n依据地区和月访问量划分的AI网站榜单\\n\\n依据来源和月访问量划分的AI网站榜单\\n\\n依据支付排名和实际流量的AI高收入榜\\n\\n# Tavily\\n\\n## 什么是Tavily？\\n\\nTavily是一个为人工智能代理定制的搜索引擎，提供实时、准确的结果、智能查询建议和深入研究能力。它还充当一个AI研究助手，通过收集准确的来源并组织研究结果在一个平台上提供快速的洞察和综合性研究。Tavily帮助个人和企业做出无偏见且经过深思熟虑的决策，通过自动化研究在分钟内提供可操作的见解。\\n\\n## 如何使用 Tavily？\\n\\n使用Tavily时，请分享您的目标和问题。Tavily从相关来源收集信息，并在几分钟内将可操作的研究见解直接发送到您的收件箱。该平台还允许反馈、深入研究成果及与团队成员的协作。 [...] ## Tavily 的核心功能\\n\\n### 实时、准确的搜索结果\\n\\n### 智能查询建议\\n\\n### 深入的研究能力\\n\\n### 为AI代理和大型语言模型量身定制\\n\\n### 综合来源收集\\n\\n### 研究结果的组织\\n\\n### 团队协作功能\\n\\n## Tavily 的使用案例\\n\\n### 进行学术研究\\n\\n### 寻找纽约市的顶级餐厅\\n\\n### 评估COVID-19的经济影响\\n\\n### 为AI应用提供实时搜索支持\\n\\n### 支持RAG（检索增强生成）系统\\n\\n## 来自 Tavily 的常见问题\\n\\n### Tavily进行什么样的研究？\\n\\n### Tavily如何确保提供信息的准确性？\\n\\n### 收到研究结果需要多长时间？\\n\\n### Tavily在研究结果中是否包括来源？\\n\\n### Tavily适合个人还是企业需求？\\n\\n## Tavily Discord\\n\\n这个是 Tavily Discord的链接: . 更多 Discord 信息, 请点击 discord链接(/zh/discord/2pfkc83frq).\\n\\n## Tavily 支持邮箱 & 客户服务联系 & 退款联系等 [...] ### 最新流量情况\\n\\n### 地理位置\\n\\nTop 5 国家/地区\\n\\n### 流量来源\\n\\n### 热门关键词\\n\\n## Tavily Discord 用户数分析\\n\\n### 最新用户数\\n\\n## 社交媒体聆听\\n\\n## Tavily 启动嵌入功能\\n\\n使用网站徽章推动社区对 Toolify 启动的支持。它们很容易嵌入到您的主页或页脚。\\n\\nTavily: 为AI代理和快速见解量身定制的AI驱动的搜索引擎和研究助手。\\nTavily: 为AI代理和快速见解量身定制的AI驱动的搜索引擎和研究助手。\\nTavily: 为AI代理和快速见解量身定制的AI驱动的搜索引擎和研究助手。\\n\\n## Tavily替代品\\n\\n## Tavily对比\\n\\n## Tavily的标签\\n\\nToolify logo\\n\\n版权所有©2025年Toolify。保留所有权利。',\n",
       "  'score': 0.8467682}]"
      ]
     },
     "execution_count": 31,
     "metadata": {},
     "output_type": "execute_result"
    }
   ],
   "source": [
    "tool.invoke(\"简单介绍一下Tavily\")"
   ]
  },
  {
   "cell_type": "code",
   "execution_count": 79,
   "id": "6626db9e-4efb-4f88-8773-9f44695d3184",
   "metadata": {},
   "outputs": [],
   "source": [
    "class State(TypedDict):\n",
    "    messages: Annotated[list, add_messages]"
   ]
  },
  {
   "cell_type": "code",
   "execution_count": 80,
   "id": "5db85c1e-f72b-42b8-b5f1-3f047e1bd632",
   "metadata": {},
   "outputs": [],
   "source": [
    "graph_builder = StateGraph(State)"
   ]
  },
  {
   "cell_type": "code",
   "execution_count": 81,
   "id": "7211c19e-9f4b-43c1-b1b1-ac4b2b0ebf41",
   "metadata": {},
   "outputs": [],
   "source": [
    "chat_model = ChatZhipuAI(model='glm-4-flash-250414')"
   ]
  },
  {
   "cell_type": "code",
   "execution_count": 82,
   "id": "06ac8943-498b-42b3-8de2-075bdb6451e3",
   "metadata": {},
   "outputs": [],
   "source": [
    "llm_with_tools = chat_model.bind_tools(tools)"
   ]
  },
  {
   "cell_type": "code",
   "execution_count": 83,
   "id": "ef4a45cb-9921-4d8f-9203-2e48f25f2aae",
   "metadata": {},
   "outputs": [],
   "source": [
    "def chatbot(state: State):\n",
    "    return {'messages': [llm_with_tools.invoke(state['messages'])]}"
   ]
  },
  {
   "cell_type": "code",
   "execution_count": 84,
   "id": "5605fab3-5cc4-4944-b2b1-afe42aac0d29",
   "metadata": {},
   "outputs": [
    {
     "data": {
      "text/plain": [
       "<langgraph.graph.state.StateGraph at 0x2a9ff6e5a30>"
      ]
     },
     "execution_count": 84,
     "metadata": {},
     "output_type": "execute_result"
    }
   ],
   "source": [
    "graph_builder.add_node('chatbot', chatbot)"
   ]
  },
  {
   "cell_type": "code",
   "execution_count": 85,
   "id": "53d8a39e-d42a-4068-8265-0989b382f155",
   "metadata": {},
   "outputs": [],
   "source": [
    "import json\n",
    "from langchain_core.messages import ToolMessage"
   ]
  },
  {
   "cell_type": "code",
   "execution_count": 86,
   "id": "abd07168-0c94-446f-b093-0d255b4d3eb1",
   "metadata": {},
   "outputs": [],
   "source": [
    "class BasicToolNode:\n",
    "    def __init__(self, tools: list) -> None:\n",
    "        # tools 是一个包含所有可用工具的列表，我们将其转化为字典，\n",
    "        # 通过工具名称（tool.name）来访问具体的工具\n",
    "        self.tools_by_name = {tool.name: tool for tool in tools}\n",
    "\n",
    "    def __call__(self, inputs: dict):\n",
    "        \"\"\"执行工具调用\n",
    "        \n",
    "        参数:\n",
    "        inputs: 包含 \"messages\" 键的字典，\"messages\" 是对话消息的列表，\n",
    "                其中最后一条消息可能包含工具调用的请求。\n",
    "        \n",
    "        返回:\n",
    "        包含工具调用结果的消息列表\n",
    "        \"\"\"\n",
    "        # 获取消息列表中的最后一条消息，判断是否包含工具调用请求\n",
    "        if messages := inputs.get(\"messages\", []):\n",
    "            message = messages[-1]\n",
    "        else:\n",
    "            raise ValueError(\"输入中未找到消息\")\n",
    "\n",
    "        # 用于保存工具调用的结果\n",
    "        outputs = []\n",
    "\n",
    "        # 遍历工具调用请求，执行工具并将结果返回\n",
    "        for tool_call in message.tool_calls:\n",
    "            # 根据工具名称找到相应的工具，并调用工具的 invoke 方法执行工具\n",
    "            tool_result = self.tools_by_name[tool_call[\"name\"]].invoke(\n",
    "                tool_call[\"args\"]\n",
    "            )\n",
    "            # 将工具调用结果作为 ToolMessage 保存下来\n",
    "            outputs.append(\n",
    "                ToolMessage(\n",
    "                    content=json.dumps(tool_result),  # 工具调用的结果以 JSON 格式保存\n",
    "                    name=tool_call[\"name\"],  # 工具的名称\n",
    "                    tool_call_id=tool_call[\"id\"],  # 工具调用的唯一标识符\n",
    "                )\n",
    "            )\n",
    "            \n",
    "         # 返回包含工具调用结果的消息\n",
    "        return {\"messages\": outputs}"
   ]
  },
  {
   "cell_type": "code",
   "execution_count": 87,
   "id": "b4e4f6b6-ca35-439b-9600-34efe668e91e",
   "metadata": {},
   "outputs": [
    {
     "data": {
      "text/plain": [
       "<langgraph.graph.state.StateGraph at 0x2a9ff6e5a30>"
      ]
     },
     "execution_count": 87,
     "metadata": {},
     "output_type": "execute_result"
    }
   ],
   "source": [
    "tool_node = BasicToolNode(tools=tools)\n",
    "graph_builder.add_node(\"tools\", tool_node)"
   ]
  },
  {
   "cell_type": "code",
   "execution_count": 88,
   "id": "62e9871b-48f4-46be-9f8f-5ebc7dc8cb2c",
   "metadata": {},
   "outputs": [],
   "source": [
    "from typing import Literal"
   ]
  },
  {
   "cell_type": "code",
   "execution_count": 89,
   "id": "0a4afcb4-3ee0-4f30-890a-a904f542aead",
   "metadata": {},
   "outputs": [],
   "source": [
    "# 定义路由函数，检查工具调用\n",
    "def route_tools(state: State,) -> Literal[\"tools\", \"__end__\"]:\n",
    "    \"\"\"\n",
    "    使用条件边来检查最后一条消息中是否有工具调用。\n",
    "    \n",
    "    参数:\n",
    "    state: 状态字典或消息列表，用于存储当前对话的状态和消息。\n",
    "    \n",
    "    返回:\n",
    "    如果最后一条消息包含工具调用，返回 \"tools\" 节点，表示需要执行工具调用；\n",
    "    否则返回 \"__end__\"，表示直接结束流程。\n",
    "    \"\"\"\n",
    "    # 检查状态是否是列表类型（即消息列表），取最后一条 AI 消息\n",
    "    if isinstance(state, list):\n",
    "        ai_message = state[-1]\n",
    "    # 否则从状态字典中获取 \"messages\" 键，取最后一条消息\n",
    "    elif messages := state.get(\"messages\", []):\n",
    "        ai_message = messages[-1]\n",
    "    # 如果没有找到消息，则抛出异常\n",
    "    else:\n",
    "        raise ValueError(f\"输入状态中未找到消息: {state}\")\n",
    "\n",
    "    # 检查最后一条消息是否有工具调用请求\n",
    "    if hasattr(ai_message, \"tool_calls\") and len(ai_message.tool_calls) > 0:\n",
    "        return \"tools\"  # 如果有工具调用请求，返回 \"tools\" 节点\n",
    "    return \"__end__\"  # 否则返回 \"__end__\"，流程结束"
   ]
  },
  {
   "cell_type": "code",
   "execution_count": 90,
   "id": "1e4af247-4f54-4e90-94b4-4b7790bf1bde",
   "metadata": {},
   "outputs": [
    {
     "data": {
      "text/plain": [
       "<langgraph.graph.state.StateGraph at 0x2a9ff6e5a30>"
      ]
     },
     "execution_count": 90,
     "metadata": {},
     "output_type": "execute_result"
    }
   ],
   "source": [
    "graph_builder.add_conditional_edges(\n",
    "    \"chatbot\",  # 从聊天机器人节点开始\n",
    "    route_tools,  # 路由函数，决定下一个节点\n",
    "    {\n",
    "        \"tools\": \"tools\", \n",
    "        \"__end__\": \"__end__\"\n",
    "    },  # 定义条件的输出，工具调用走 \"tools\"，否则走 \"__end__\"\n",
    ")"
   ]
  },
  {
   "cell_type": "code",
   "execution_count": 91,
   "id": "d46d1126-d424-42f2-bf4a-f56f172c4107",
   "metadata": {},
   "outputs": [
    {
     "data": {
      "text/plain": [
       "<langgraph.graph.state.StateGraph at 0x2a9ff6e5a30>"
      ]
     },
     "execution_count": 91,
     "metadata": {},
     "output_type": "execute_result"
    }
   ],
   "source": [
    "# 当工具调用完成后，返回到聊天机器人节点以继续对话\n",
    "graph_builder.add_edge(\"tools\", \"chatbot\")"
   ]
  },
  {
   "cell_type": "code",
   "execution_count": 92,
   "id": "4af5692e-4ece-470f-b5cc-f9f8f526ed50",
   "metadata": {},
   "outputs": [
    {
     "data": {
      "text/plain": [
       "<langgraph.graph.state.StateGraph at 0x2a9ff6e5a30>"
      ]
     },
     "execution_count": 92,
     "metadata": {},
     "output_type": "execute_result"
    }
   ],
   "source": [
    "# 指定从 START 节点开始，进入聊天机器人节点\n",
    "graph_builder.add_edge(START, \"chatbot\")"
   ]
  },
  {
   "cell_type": "code",
   "execution_count": 93,
   "id": "045e4457-968a-40ef-b145-896293482bd6",
   "metadata": {},
   "outputs": [],
   "source": [
    "graph = graph_builder.compile()"
   ]
  },
  {
   "cell_type": "code",
   "execution_count": 94,
   "id": "4d8a1c40-0075-4006-a352-bf3a022ca79d",
   "metadata": {},
   "outputs": [],
   "source": [
    "from IPython.display import Image, display"
   ]
  },
  {
   "cell_type": "code",
   "execution_count": 95,
   "id": "d871c1d5-f447-4c93-bbed-3418e66dc8e8",
   "metadata": {},
   "outputs": [
    {
     "data": {
      "image/png": "[encoded data removed]",
      "text/plain": [
       "<IPython.core.display.Image object>"
      ]
     },
     "metadata": {},
     "output_type": "display_data"
    }
   ],
   "source": [
    "try:\n",
    "    display(Image(graph.get_graph().draw_mermaid_png()))\n",
    "except Exception as e:\n",
    "    print('failed', e)\n",
    "    pass"
   ]
  },
  {
   "cell_type": "code",
   "execution_count": 98,
   "id": "f118636e-ebd1-43ac-b5ed-23aad60b9ab2",
   "metadata": {},
   "outputs": [
    {
     "name": "stdin",
     "output_type": "stream",
     "text": [
      "User:  请给我介绍一下Tavily的主要作用\n"
     ]
    },
    {
     "name": "stdout",
     "output_type": "stream",
     "text": [
      "Assistant: \n",
      "Assistant: [{\"title\": \"tavily\\u7684\\u7b80\\u4ecb\\u3001\\u5b89\\u88c5\\u548c\\u4f7f\\u7528\\u65b9\\u6cd5\\u3001\\u6848\\u4f8b\\u5e94\\u7528\\u4e4b\\u8be6\\u7ec6\\u653b\\u7565 - CSDN\\u535a\\u5ba2\", \"url\": \"https://blog.csdn.net/qq_41185868/article/details/137897454\", \"content\": \"\\u8f7b\\u677e\\u5730\\u5c06\\u667a\\u80fd\\u641c\\u7d22\\u529f\\u80fd\\u96c6\\u6210\\u5230\\u60a8\\u7684\\u5e94\\u7528\\u7a0b\\u5e8f\\u4e2d\\uff0c\\u5229\\u7528Tavily\\u5f3a\\u5927\\u7684\\u641c\\u7d22\\u529f\\u80fd\\u3002 ... Tavily\\u7684\\u4e3b\\u8981\\u7279\\u70b9\\u662f\\u63d0\\u4f9b\\u9ad8\\u6548\\u3001\\u5feb\\u901f\\u4e14\\u6301\\u4e45\\u7684\\u641c\\u7d22\\u7ed3\\u679c\\uff0c\\u65e8\\u5728\\u5e2e\\u52a9AI\\u5f00\\u53d1\", \"score\": 0.86136365}, {\"title\": \"\\u3010\\u4eba\\u5de5\\u667a\\u80fd\\u3011Tavily Search API \\uff0c\\u4e13\\u4e3a\\u4eba\\u5de5\\u667a\\u80fd\\u4ee3\\u7406\\uff08\\u5982\\u5927\\u578b\\u8bed\\u8a00 ...\", \"url\": \"https://blog.csdn.net/wstever/article/details/143361668\", \"content\": \"Tavily\\u662f\\u4e00\\u4e2a\\u4e13\\u4e3a\\u4eba\\u5de5\\u667a\\u80fd\\u4ee3\\u7406\\uff08\\u5982\\u5927\\u578b\\u8bed\\u8a00\\u6a21\\u578b\\uff09\\u548c\\u68c0\\u7d22\\u589e\\u5f3a\\u751f\\u6210\\uff08RAG\\uff09\\u5e94\\u7528\\u8bbe\\u8ba1\\u7684\\u641c\\u7d22\\u5f15\\u64ce\\u3002  \\nTavily\\u7684\\u4e3b\\u8981\\u7279\\u70b9\\u662f\\u63d0\\u4f9b\\u9ad8\\u6548\\u3001\\u5feb\\u901f\\u4e14\\u6301\\u4e45\\u7684\\u641c\\u7d22\\u7ed3\\u679c\\uff0c\\u65e8\\u5728\\u5e2e\\u52a9AI\\u5f00\\u53d1\\u4eba\\u5458\\u8f7b\\u677e\\u5730\\u5c06\\u5e94\\u7528\\u7a0b\\u5e8f\\u4e0e\\u5b9e\\u65f6\\u5728\\u7ebf\\u4fe1\\u606f\\u96c6\\u6210\\u5728\\u4e00\\u8d77\\u3002  \\nTavily\\u7684\\u5b98\\u7f51\\uff1a\\n\\n### 1.3 \\u89e3\\u51b3\\u7684\\u95ee\\u9898\\u6216\\u9700\\u6c42\\n\\nTavily \\u4e3b\\u8981\\u89e3\\u51b3AI\\u5e94\\u7528\\u4e2d\\u4fe1\\u606f\\u83b7\\u53d6\\u548c\\u6574\\u5408\\u7684\\u96be\\u9898\\uff0c\\u786e\\u4fdd\\u751f\\u6210\\u7684\\u5185\\u5bb9\\u51c6\\u786e\\u3001\\u53ef\\u9760\\u4e14\\u53ca\\u65f6\\u3002  \\nTavily \\u7279\\u522b\\u9002\\u5408\\u9700\\u8981\\u5b9e\\u65f6\\u6570\\u636e\\u7684\\u573a\\u666f\\uff0c\\u5982\\u65b0\\u95fb\\u805a\\u5408\\u3001\\u5ba2\\u6237\\u670d\\u52a1\\u3001\\u7814\\u7a76\\u52a9\\u624b\\u7b49\\u3002\\n\\n### 1.4 \\u4e3b\\u8981\\u4f18\\u52bf\\u548c\\u4ef7\\u503c\\n\\n   \\u9ad8\\u6548\\u641c\\u7d22\\uff1aTavily \\u63d0\\u4f9b\\u5feb\\u901f\\u3001\\u51c6\\u786e\\u7684\\u641c\\u7d22\\u7ed3\\u679c\\uff0c\\u786e\\u4fddAI\\u751f\\u6210\\u7684\\u5185\\u5bb9\\u5177\\u6709\\u9ad8\\u53ef\\u4fe1\\u5ea6\\u3002\\n   \\u591a\\u6837\\u5316\\u7684API\\u8ba1\\u5212&#x\\n\\n \\n\\n\\u4e86\\u89e3\\u672c\\u4e13\\u680f Image 15 Image 16 \\u8ba2\\u9605\\u4e13\\u680f \\u89e3\\u9501\\u5168\\u6587 Image 17 \\u8d85\\u7ea7\\u4f1a\\u5458\\u514d\\u8d39\\u770b\\n\\nImage 18\\n\\nImage 19\\n\\n\\u786e\\u5b9a\\u8981\\u653e\\u5f03\\u672c\\u6b21\\u673a\\u4f1a\\uff1f\\n\\n\\u798f\\u5229\\u5012\\u8ba1\\u65f6\\n\\n_:_ _:_\\n\\nImage 20 \\u7acb\\u51cf \\u00a5\\n\\n\\u666e\\u901aVIP\\u5e74\\u5361\\u53ef\\u7528\\n\\n\\u7acb\\u5373\\u4f7f\\u7528\\n\\n Image 21 \\u672c\\u672c\\u672c\\u6dfb\\u54e5\\n\\n\\u5173\\u6ce8 \\u5173\\u6ce8 [...] _Tavily_\\u662f\\u4e00\\u4e2aAI\\u5de5\\u5177\\uff0c\\u5b83\\u53ef\\u4ee5\\u5728Langchain\\u4e2d\\u7528\\u4e8e\\u5404\\u79cd\\u4efb\\u52a1\\uff0c\\u6bd4\\u5982\\u641c\\u7d22\\u3001\\u95ee\\u7b54\\u3001\\u6587\\u672c_\\u751f\\u6210_\\u7b49\\u3002\\u5728Langchain\\u4e2d\\uff0c_Tavily_\\u53ef\\u4ee5\\u4f5c\\u4e3a\\u4e00\\u4e2a\\u5916\\u90e8\\u77e5\\u8bc6\\u6e90\\uff0c\\u5e2e\\u52a9\\u6a21\\u578b\\u83b7\\u53d6\\u66f4\\u591a\\u7684\\u4fe1\\u606f\\uff0c\\u63d0\\u9ad8\\u56de\\u7b54\\u7684\\u51c6\\u786e\\u6027_\\u548c_\\u8d28\\u91cf\\u3002\\u540c\\u65f6\\uff0c_Tavily_\\u4e5f\\u53ef\\u4ee5\\u7528\\u4e8e\\u81ea\\u52a8_\\u751f\\u6210_\\u6587\\u672c\\uff0c\\u6bd4\\u5982\\u521b\\u4f5c\\u6545\\u4e8b\\u3001\\u5199\\u6587\\u7ae0\\u7b49\\u3002\\u603b\\u4e4b\\uff0c_Tavily_\\u662f\\u4e00\\u4e2a\\u975e\\u5e38\\u6709\\u7528\\u7684\\u529f\\u80fd\\uff0c\\u53ef\\u4ee5_\\u589e\\u5f3a_Langchain\\u7684\\u80fd\\u529b\\u3002\\u7b80\\u5355\\u6765\\u8bf4\\uff0c\\u5c31\\u662f_Tavily_\\u662f\\u4e2a_\\u641c\\u7d22\\u5f15\\u64ce_\\uff0c\\u81ea\\u52a8\\u4e0a\\u7f51\\u83b7\\u53d6\\u4fe1\\u606f\\u3002\\n\\n\\u3010_Tavily_ _Search_\\uff1a\\u4e3aAI_\\u4ee3\\u7406_\\u91cf\\u8eab\\u6253\\u9020\\u7684\\u5b9e\\u65f6\\u641c\\u7d22\\u89e3\\u51b3\\u65b9\\u6848\\u3011\\n\\njaioyfpo\\u7684\\u535a\\u5ba2\\n\\n11-09 Image 48 3864 [...] _Tavily_ _Search_ _API_ \\u5141\\u8bb8_\\u4eba\\u5de5\\u667a\\u80fd_\\u5f00\\u53d1\\u4eba\\u5458\\u8f7b\\u677e\\u5730\\u5c06\\u4ed6\\u4eec\\u7684_\\u5e94\\u7528_\\u7a0b\\u5e8f\\u4e0e\\u5b9e\\u65f6\\u5728\\u7ebf\\u4fe1\\u606f\\u96c6\\u6210\\u5728\\u4e00\\u8d77\\uff0c\\u4e3b\\u8981\\u76ee\\u6807\\u662f\\u63d0\\u4f9b\\u6765\\u81ea\\u53ef\\u4fe1\\u6765\\u6e90\\u7684\\u771f\\u5b9e\\u53ef\\u9760\\u7684\\u4fe1\\u606f\\uff0c\\u4ece\\u800c\\u63d0\\u9ad8AI_\\u751f\\u6210_\\u5185\\u5bb9\\u7684\\u51c6\\u786e\\u6027_\\u548c_\\u53ef\\u9760\\u6027\\u3002_Tavily_ _Search_ _API_\\u7684\\u8f93\\u51fa\\u5185\\u5bb9\\u662f\\u9488\\u5bf9\\u641c\\u7d22\\u67e5\\u8be2\\u8fdb\\u884c\\u4e86\\u5b9a\\u5236\\u7684\\uff0c\\u63d0\\u4f9b\\u4e86\\u6700\\u76f8\\u5173_\\u548c_\\u6709\\u4fe1\\u606f\\u91cf\\u7684\\u7ed3\\u679c\\u3002_Tavily_ _Search_ _API_ \\u63d0\\u4f9b\\u4e86\\u51e0\\u79cd\\u4e0d\\u540c\\u7684\\u8ba1\\u5212\\uff0c\\u4ee5\\u652f\\u6301\\u4e0d\\u540c\\u89c4\\u6a21\\u7684\\u4f7f\\u7528\\u9700\\u6c42\\uff0c\\u5305\\u62ec\\u514d\\u8d39\\u7684\\u7814\\u7a76\\u8005\\u8ba1\\u5212_\\u548c_\\u4ed8\\u8d39\\u7684Bootstrap\\u3001Startup\\u8ba1\\u5212\\uff0c\\u8fd9\\u4e9b\\u8ba1\\u5212\\u63d0\\u4f9b\\u4e86\\u66f4\\u591a\\u7684_API_\\u8c03\\u7528\\u6b21\\u6570_\\u548c_\\u5b9a\\u5236\\u5316\\u7684\\u4e3b\\u9898\\u53ca\\u6765\\u6e90\\u3002\\n\\n\\u4f7f\\u7528 _Tavily_ _Search_ \\u5b9e\\u73b0\\u5b9e\\u65f6\\u9ad8\\u6548\\u7684 AI \\u641c\\u7d22\\n\\nasdfujhgy\\u7684\\u535a\\u5ba2\\n\\n12-25 Image 51 1195\", \"score\": 0.86052185}]\n",
      "Assistant: Tavily是一个专为全面、准确和可信的搜索结果而优化的搜索引擎，主要用于回答有关当前事件的问题。其主要作用是提供高效、快速且可靠的信息搜索服务，帮助用户快速找到所需信息。Tavily的特点是提供高度有效、准备充分的搜索结果，支持在搜索引擎中辅助AI的开发。它的主要用途包括但不限于：\n",
      "\n",
      "1. 帮助AI生成更加真实、完整和可信的内容。\n",
      "2. 为各种应用场景提供信息支持，如新发布的社交媒体帖子、客户服务、市场调研等。\n",
      "3. 提供高质量的搜索结果，帮助用户快速找到所需信息。\n",
      "\n",
      "Tavily适用于需要实时信息支持的场景，如社交媒体监控、市场分析、客户服务等。它能够为AI提供真实的信息来源，帮助AI生成更准确的内容，并支持各种应用场景的需求。\n",
      "\n",
      "更多关于Tavily的详细信息和使用方法，可以参考以下链接：\n",
      "- [tavily的简介、部署和使用方法、案例应用 - CSDN博客](https://blog.csdn.net/qq_41185868/article/details/137897454)\n",
      "- [（人功智能）Tavily Search API，专门于人功智能翻译（如大数据口语）和检索增强生成(RAG)应用设计的搜索引擎](https://blog.csdn.net/wstever/article/details/143361668)\n"
     ]
    },
    {
     "name": "stdin",
     "output_type": "stream",
     "text": [
      "User:  q\n"
     ]
    },
    {
     "name": "stdout",
     "output_type": "stream",
     "text": [
      "Goodbye!\n"
     ]
    }
   ],
   "source": [
    "from langchain_core.messages import BaseMessage\n",
    "\n",
    "# 进入一个无限循环，用于模拟持续的对话\n",
    "while True:\n",
    "    # 获取用户输入\n",
    "    user_input = input(\"User: \")\n",
    "    \n",
    "    # 如果用户输入 \"quit\"、\"exit\" 或 \"q\"，则退出循环，结束对话\n",
    "    if user_input.lower() in [\"quit\", \"exit\", \"q\"]:\n",
    "        print(\"Goodbye!\")  # 打印告别语\n",
    "        break  # 退出循环\n",
    "\n",
    "    # 使用 graph.stream 处理用户输入，并生成机器人的回复\n",
    "    # \"messages\" 列表中包含用户的输入，传递给对话系统\n",
    "    for event in graph.stream({\"messages\": [(\"user\", user_input)]}):\n",
    "        \n",
    "        # 遍历 event 的所有值，检查是否是 BaseMessage 类型的消息\n",
    "        for value in event.values():\n",
    "            if isinstance(value[\"messages\"][-1], BaseMessage):\n",
    "                # 如果消息是 BaseMessage 类型，则打印机器人的回复\n",
    "                print(\"Assistant:\", value[\"messages\"][-1].content)"
   ]
  },
  {
   "cell_type": "code",
   "execution_count": null,
   "id": "647090d0-932c-4ba2-aaa0-cfc611f213bd",
   "metadata": {},
   "outputs": [],
   "source": []
  }
 ],
 "metadata": {
  "kernelspec": {
   "display_name": "Python 3 (ipykernel)",
   "language": "python",
   "name": "python3"
  },
  "language_info": {
   "codemirror_mode": {
    "name": "ipython",
    "version": 3
   },
   "file_extension": ".py",
   "mimetype": "text/x-python",
   "name": "python",
   "nbconvert_exporter": "python",
   "pygments_lexer": "ipython3",
   "version": "3.12.3"
  }
 },
 "nbformat": 4,
 "nbformat_minor": 5
}
